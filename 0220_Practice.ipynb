{
 "cells": [
  {
   "cell_type": "markdown",
   "id": "1f60d2bf",
   "metadata": {},
   "source": [
    "## <font color=slateblue>Job Patterns For Minorities And Women In Private Industry, 2009 EEO-1 NAICS-4 Aggregate Report"
   ]
  },
  {
   "cell_type": "markdown",
   "id": "d69251c3",
   "metadata": {},
   "source": [
    "[데이터 출처](https://catalog.data.gov/dataset/job-patterns-for-minorities-and-women-in-private-industry-2009-eeo-1-naics-4-aggregate-rep)\n",
    "\n",
    "\n",
    "- 이 데이터는 'Energy' 카테고리에 있었다. 따라서 변수들에 따라서 pctofst(수평 오프셋)의 변화가 어떤지 분석하는 것이 목적이라고 추정된다. 즉, 민간 사업에서 여성과 소수자가 있는 기업들의 전력시험기(전력분석계)의 pctofst(수평 오프셋)을 측정한 것으로 보인다. (정확한 목적은 잘 모르겠습니다...)\n",
    "\n",
    "[링크: pctofst 설명](https://www.manualsdir.com/manuals/401804/boonton-4500b-peak-power-meter.html?page=300)\n",
    "\n",
    "\n",
    "- *pctofst를 검색해보니 boonton 4500c 같은 게 나왔고 power analyzer, power meter라는 것도 나왔다.\n",
    "\n",
    "\n",
    "- *디스플레이 : PCTOFST 선형 프레젠테이션에서 수평 오프셋을 표시합니다. <인수> = 0.0 ~ 99.0\n",
    "    - pctofst는 전력시험기에서 수평 오프셋으로 추정됨. 말 그대로 전력 측정시 수평을 맞춰주는 역할을 하는 것으로 보임\n",
    "\n",
    "- 전력시험기(전력분석계)\n",
    "    - 전기 시스템 내에서 전력 흐름(w)을 측정하기 위해 사용. \n",
    "    - 전력 흐름은 전원과 싱크(sink) 간의 전기적 전달 속도 -> 전력을 초당 전기 에너지(J/s)로 표현\n",
    "    \n",
    "    \n",
    "- 미국 EEOC(미국 평등 고용 기회 위원회)\n",
    "    - EEOC가 이 데이터를 수집했음\n",
    "    - 개인의 인종, 피부색, 종교, 성(임신, 성전환 상태 및 성지향성을 포함), 국적, 연령(40세 이상), 장애 또는 유전 정보로 인하여 신청자 또는 직원을 차별하는 것을 불법으로 막는 연방법의 집행을 담당\n",
    "\n",
    "[링크: EEOC](https://www.eeoc.gov/statistics/employment/jobpatterns/eeo1)"
   ]
  },
  {
   "cell_type": "markdown",
   "id": "899ef160",
   "metadata": {},
   "source": [
    "### [Self-practice]"
   ]
  },
  {
   "cell_type": "markdown",
   "id": "ed5c8639",
   "metadata": {},
   "source": [
    "### 1. 데이터 탐색"
   ]
  },
  {
   "cell_type": "code",
   "execution_count": 1,
   "id": "07bf9d74",
   "metadata": {},
   "outputs": [],
   "source": [
    "# 라이브러리 로드\n",
    "import pandas as pd\n",
    "import numpy as np\n",
    "import matplotlib.pyplot as plt\n",
    "import seaborn as sns\n",
    "%config InlineBackend.figure_format='retina'\n",
    "\n",
    "import warnings\n",
    "warnings.filterwarnings('ignore')"
   ]
  },
  {
   "cell_type": "markdown",
   "id": "cd649ced",
   "metadata": {},
   "source": [
    "### 데이터 원본 링크\n",
    "[데이터 원본](https://www.eeoc.gov/sites/default/files/migrated_files/eeoc/statistics/employment/jobpat-eeo1/2009/datasets/YEAR09_NAC4.txt)"
   ]
  },
  {
   "cell_type": "code",
   "execution_count": 2,
   "id": "5b3790fb",
   "metadata": {},
   "outputs": [],
   "source": [
    "# 데이터 로드\n",
    "path = 'https://bit.ly/34X1vdL'\n",
    "job = pd.read_csv(path, sep=';')"
   ]
  },
  {
   "cell_type": "code",
   "execution_count": 3,
   "id": "63726af8",
   "metadata": {},
   "outputs": [
    {
     "data": {
      "text/html": [
       "<div>\n",
       "<style scoped>\n",
       "    .dataframe tbody tr th:only-of-type {\n",
       "        vertical-align: middle;\n",
       "    }\n",
       "\n",
       "    .dataframe tbody tr th {\n",
       "        vertical-align: top;\n",
       "    }\n",
       "\n",
       "    .dataframe thead th {\n",
       "        text-align: right;\n",
       "    }\n",
       "</style>\n",
       "<table border=\"1\" class=\"dataframe\">\n",
       "  <thead>\n",
       "    <tr style=\"text-align: right;\">\n",
       "      <th></th>\n",
       "      <th>NAC4_code</th>\n",
       "      <th>TOTAL_UNITS</th>\n",
       "      <th>TOTAL1</th>\n",
       "      <th>TOTAL2</th>\n",
       "      <th>TOTAL3</th>\n",
       "      <th>TOTAL4</th>\n",
       "      <th>TOTAL5</th>\n",
       "      <th>TOTAL6</th>\n",
       "      <th>TOTAL7</th>\n",
       "      <th>TOTAL8</th>\n",
       "      <th>...</th>\n",
       "      <th>PTOTAL4</th>\n",
       "      <th>PTOTAL5</th>\n",
       "      <th>PTOTAL6</th>\n",
       "      <th>PTOTAL7</th>\n",
       "      <th>PTOTAL8</th>\n",
       "      <th>PTOTAL9</th>\n",
       "      <th>PTOTAL10</th>\n",
       "      <th>NAC4_Label</th>\n",
       "      <th>FIRMS</th>\n",
       "      <th>pctofst</th>\n",
       "    </tr>\n",
       "  </thead>\n",
       "  <tbody>\n",
       "    <tr>\n",
       "      <th>0</th>\n",
       "      <td>1111</td>\n",
       "      <td>64</td>\n",
       "      <td>276</td>\n",
       "      <td>3523</td>\n",
       "      <td>753</td>\n",
       "      <td>1230</td>\n",
       "      <td>1127</td>\n",
       "      <td>904</td>\n",
       "      <td>1002</td>\n",
       "      <td>7697</td>\n",
       "      <td>...</td>\n",
       "      <td>100</td>\n",
       "      <td>100</td>\n",
       "      <td>100</td>\n",
       "      <td>100</td>\n",
       "      <td>100</td>\n",
       "      <td>100</td>\n",
       "      <td>100</td>\n",
       "      <td>Oilseed and Grain Farming</td>\n",
       "      <td>30</td>\n",
       "      <td>32.785979</td>\n",
       "    </tr>\n",
       "    <tr>\n",
       "      <th>1</th>\n",
       "      <td>1112</td>\n",
       "      <td>73</td>\n",
       "      <td>314</td>\n",
       "      <td>453</td>\n",
       "      <td>278</td>\n",
       "      <td>214</td>\n",
       "      <td>605</td>\n",
       "      <td>1080</td>\n",
       "      <td>1987</td>\n",
       "      <td>17764</td>\n",
       "      <td>...</td>\n",
       "      <td>100</td>\n",
       "      <td>100</td>\n",
       "      <td>100</td>\n",
       "      <td>100</td>\n",
       "      <td>100</td>\n",
       "      <td>100</td>\n",
       "      <td>100</td>\n",
       "      <td>Vegetable and Melon Farming</td>\n",
       "      <td>57</td>\n",
       "      <td>10.667449</td>\n",
       "    </tr>\n",
       "    <tr>\n",
       "      <th>2</th>\n",
       "      <td>1113</td>\n",
       "      <td>139</td>\n",
       "      <td>398</td>\n",
       "      <td>523</td>\n",
       "      <td>228</td>\n",
       "      <td>403</td>\n",
       "      <td>879</td>\n",
       "      <td>1314</td>\n",
       "      <td>3394</td>\n",
       "      <td>30140</td>\n",
       "      <td>...</td>\n",
       "      <td>100</td>\n",
       "      <td>100</td>\n",
       "      <td>100</td>\n",
       "      <td>100</td>\n",
       "      <td>100</td>\n",
       "      <td>100</td>\n",
       "      <td>100</td>\n",
       "      <td>Fruit and Tree Nut Farming</td>\n",
       "      <td>106</td>\n",
       "      <td>8.048898</td>\n",
       "    </tr>\n",
       "    <tr>\n",
       "      <th>3</th>\n",
       "      <td>1114</td>\n",
       "      <td>186</td>\n",
       "      <td>696</td>\n",
       "      <td>966</td>\n",
       "      <td>511</td>\n",
       "      <td>1647</td>\n",
       "      <td>1760</td>\n",
       "      <td>1546</td>\n",
       "      <td>3266</td>\n",
       "      <td>21897</td>\n",
       "      <td>...</td>\n",
       "      <td>100</td>\n",
       "      <td>100</td>\n",
       "      <td>100</td>\n",
       "      <td>100</td>\n",
       "      <td>100</td>\n",
       "      <td>100</td>\n",
       "      <td>100</td>\n",
       "      <td>Greenhouse, Nursery, and Floriculture Production</td>\n",
       "      <td>129</td>\n",
       "      <td>9.879636</td>\n",
       "    </tr>\n",
       "    <tr>\n",
       "      <th>4</th>\n",
       "      <td>1119</td>\n",
       "      <td>92</td>\n",
       "      <td>358</td>\n",
       "      <td>3053</td>\n",
       "      <td>241</td>\n",
       "      <td>1325</td>\n",
       "      <td>1195</td>\n",
       "      <td>718</td>\n",
       "      <td>2503</td>\n",
       "      <td>7488</td>\n",
       "      <td>...</td>\n",
       "      <td>100</td>\n",
       "      <td>100</td>\n",
       "      <td>100</td>\n",
       "      <td>100</td>\n",
       "      <td>100</td>\n",
       "      <td>100</td>\n",
       "      <td>100</td>\n",
       "      <td>Other Crop Farming</td>\n",
       "      <td>63</td>\n",
       "      <td>27.654609</td>\n",
       "    </tr>\n",
       "  </tbody>\n",
       "</table>\n",
       "<p>5 rows × 599 columns</p>\n",
       "</div>"
      ],
      "text/plain": [
       "   NAC4_code  TOTAL_UNITS  TOTAL1  TOTAL2  TOTAL3  TOTAL4  TOTAL5  TOTAL6  \\\n",
       "0       1111           64     276    3523     753    1230    1127     904   \n",
       "1       1112           73     314     453     278     214     605    1080   \n",
       "2       1113          139     398     523     228     403     879    1314   \n",
       "3       1114          186     696     966     511    1647    1760    1546   \n",
       "4       1119           92     358    3053     241    1325    1195     718   \n",
       "\n",
       "   TOTAL7  TOTAL8  ...  PTOTAL4  PTOTAL5  PTOTAL6  PTOTAL7  PTOTAL8  PTOTAL9  \\\n",
       "0    1002    7697  ...      100      100      100      100      100      100   \n",
       "1    1987   17764  ...      100      100      100      100      100      100   \n",
       "2    3394   30140  ...      100      100      100      100      100      100   \n",
       "3    3266   21897  ...      100      100      100      100      100      100   \n",
       "4    2503    7488  ...      100      100      100      100      100      100   \n",
       "\n",
       "   PTOTAL10                                        NAC4_Label  FIRMS  \\\n",
       "0       100                         Oilseed and Grain Farming     30   \n",
       "1       100                       Vegetable and Melon Farming     57   \n",
       "2       100                        Fruit and Tree Nut Farming    106   \n",
       "3       100  Greenhouse, Nursery, and Floriculture Production    129   \n",
       "4       100                                Other Crop Farming     63   \n",
       "\n",
       "     pctofst  \n",
       "0  32.785979  \n",
       "1  10.667449  \n",
       "2   8.048898  \n",
       "3   9.879636  \n",
       "4  27.654609  \n",
       "\n",
       "[5 rows x 599 columns]"
      ]
     },
     "execution_count": 3,
     "metadata": {},
     "output_type": "execute_result"
    }
   ],
   "source": [
    "job.head()"
   ]
  },
  {
   "cell_type": "code",
   "execution_count": 4,
   "id": "5e051bde",
   "metadata": {},
   "outputs": [
    {
     "name": "stdout",
     "output_type": "stream",
     "text": [
      "<class 'pandas.core.frame.DataFrame'>\n",
      "RangeIndex: 310 entries, 0 to 309\n",
      "Columns: 599 entries, NAC4_code to pctofst\n",
      "dtypes: float64(287), int64(311), object(1)\n",
      "memory usage: 1.4+ MB\n"
     ]
    }
   ],
   "source": [
    "job.info()"
   ]
  },
  {
   "cell_type": "code",
   "execution_count": 5,
   "id": "d4e85343",
   "metadata": {},
   "outputs": [
    {
     "data": {
      "text/html": [
       "<div>\n",
       "<style scoped>\n",
       "    .dataframe tbody tr th:only-of-type {\n",
       "        vertical-align: middle;\n",
       "    }\n",
       "\n",
       "    .dataframe tbody tr th {\n",
       "        vertical-align: top;\n",
       "    }\n",
       "\n",
       "    .dataframe thead th {\n",
       "        text-align: right;\n",
       "    }\n",
       "</style>\n",
       "<table border=\"1\" class=\"dataframe\">\n",
       "  <thead>\n",
       "    <tr style=\"text-align: right;\">\n",
       "      <th></th>\n",
       "      <th>NAC4_code</th>\n",
       "      <th>TOTAL_UNITS</th>\n",
       "      <th>TOTAL1</th>\n",
       "      <th>TOTAL2</th>\n",
       "      <th>TOTAL3</th>\n",
       "      <th>TOTAL4</th>\n",
       "      <th>TOTAL5</th>\n",
       "      <th>TOTAL6</th>\n",
       "      <th>TOTAL7</th>\n",
       "      <th>TOTAL8</th>\n",
       "      <th>...</th>\n",
       "      <th>PTOTAL3</th>\n",
       "      <th>PTOTAL4</th>\n",
       "      <th>PTOTAL5</th>\n",
       "      <th>PTOTAL6</th>\n",
       "      <th>PTOTAL7</th>\n",
       "      <th>PTOTAL8</th>\n",
       "      <th>PTOTAL9</th>\n",
       "      <th>PTOTAL10</th>\n",
       "      <th>FIRMS</th>\n",
       "      <th>pctofst</th>\n",
       "    </tr>\n",
       "  </thead>\n",
       "  <tbody>\n",
       "    <tr>\n",
       "      <th>count</th>\n",
       "      <td>310.000000</td>\n",
       "      <td>310.000000</td>\n",
       "      <td>310.000000</td>\n",
       "      <td>3.100000e+02</td>\n",
       "      <td>310.000000</td>\n",
       "      <td>3.100000e+02</td>\n",
       "      <td>310.000000</td>\n",
       "      <td>310.000000</td>\n",
       "      <td>310.000000</td>\n",
       "      <td>310.000000</td>\n",
       "      <td>...</td>\n",
       "      <td>310.0</td>\n",
       "      <td>310.0</td>\n",
       "      <td>310.0</td>\n",
       "      <td>310.0</td>\n",
       "      <td>310.0</td>\n",
       "      <td>310.0</td>\n",
       "      <td>310.0</td>\n",
       "      <td>310.0</td>\n",
       "      <td>310.000000</td>\n",
       "      <td>310.000000</td>\n",
       "    </tr>\n",
       "    <tr>\n",
       "      <th>mean</th>\n",
       "      <td>4562.651613</td>\n",
       "      <td>760.448387</td>\n",
       "      <td>2586.516129</td>\n",
       "      <td>2.930962e+04</td>\n",
       "      <td>8894.890323</td>\n",
       "      <td>1.483933e+04</td>\n",
       "      <td>19744.312903</td>\n",
       "      <td>9243.235484</td>\n",
       "      <td>15634.006452</td>\n",
       "      <td>11075.754839</td>\n",
       "      <td>...</td>\n",
       "      <td>100.0</td>\n",
       "      <td>100.0</td>\n",
       "      <td>100.0</td>\n",
       "      <td>100.0</td>\n",
       "      <td>100.0</td>\n",
       "      <td>100.0</td>\n",
       "      <td>100.0</td>\n",
       "      <td>100.0</td>\n",
       "      <td>252.180645</td>\n",
       "      <td>19.174283</td>\n",
       "    </tr>\n",
       "    <tr>\n",
       "      <th>std</th>\n",
       "      <td>1804.631761</td>\n",
       "      <td>1543.459327</td>\n",
       "      <td>4540.177516</td>\n",
       "      <td>1.208374e+05</td>\n",
       "      <td>44885.014573</td>\n",
       "      <td>7.860272e+04</td>\n",
       "      <td>57172.284966</td>\n",
       "      <td>16706.174691</td>\n",
       "      <td>26186.133686</td>\n",
       "      <td>23358.862881</td>\n",
       "      <td>...</td>\n",
       "      <td>0.0</td>\n",
       "      <td>0.0</td>\n",
       "      <td>0.0</td>\n",
       "      <td>0.0</td>\n",
       "      <td>0.0</td>\n",
       "      <td>0.0</td>\n",
       "      <td>0.0</td>\n",
       "      <td>0.0</td>\n",
       "      <td>373.322873</td>\n",
       "      <td>15.693164</td>\n",
       "    </tr>\n",
       "    <tr>\n",
       "      <th>min</th>\n",
       "      <td>1111.000000</td>\n",
       "      <td>3.000000</td>\n",
       "      <td>0.000000</td>\n",
       "      <td>4.000000e+00</td>\n",
       "      <td>1.000000</td>\n",
       "      <td>0.000000e+00</td>\n",
       "      <td>21.000000</td>\n",
       "      <td>0.000000</td>\n",
       "      <td>0.000000</td>\n",
       "      <td>0.000000</td>\n",
       "      <td>...</td>\n",
       "      <td>100.0</td>\n",
       "      <td>100.0</td>\n",
       "      <td>100.0</td>\n",
       "      <td>100.0</td>\n",
       "      <td>100.0</td>\n",
       "      <td>100.0</td>\n",
       "      <td>100.0</td>\n",
       "      <td>100.0</td>\n",
       "      <td>3.000000</td>\n",
       "      <td>1.167199</td>\n",
       "    </tr>\n",
       "    <tr>\n",
       "      <th>25%</th>\n",
       "      <td>3287.000000</td>\n",
       "      <td>116.500000</td>\n",
       "      <td>435.000000</td>\n",
       "      <td>1.509000e+03</td>\n",
       "      <td>521.250000</td>\n",
       "      <td>5.692500e+02</td>\n",
       "      <td>1876.000000</td>\n",
       "      <td>651.750000</td>\n",
       "      <td>1343.000000</td>\n",
       "      <td>1053.000000</td>\n",
       "      <td>...</td>\n",
       "      <td>100.0</td>\n",
       "      <td>100.0</td>\n",
       "      <td>100.0</td>\n",
       "      <td>100.0</td>\n",
       "      <td>100.0</td>\n",
       "      <td>100.0</td>\n",
       "      <td>100.0</td>\n",
       "      <td>100.0</td>\n",
       "      <td>47.250000</td>\n",
       "      <td>8.238706</td>\n",
       "    </tr>\n",
       "    <tr>\n",
       "      <th>50%</th>\n",
       "      <td>4482.500000</td>\n",
       "      <td>327.500000</td>\n",
       "      <td>1132.500000</td>\n",
       "      <td>5.187500e+03</td>\n",
       "      <td>1746.000000</td>\n",
       "      <td>2.079000e+03</td>\n",
       "      <td>6008.000000</td>\n",
       "      <td>2748.000000</td>\n",
       "      <td>6178.500000</td>\n",
       "      <td>3757.500000</td>\n",
       "      <td>...</td>\n",
       "      <td>100.0</td>\n",
       "      <td>100.0</td>\n",
       "      <td>100.0</td>\n",
       "      <td>100.0</td>\n",
       "      <td>100.0</td>\n",
       "      <td>100.0</td>\n",
       "      <td>100.0</td>\n",
       "      <td>100.0</td>\n",
       "      <td>127.000000</td>\n",
       "      <td>14.037391</td>\n",
       "    </tr>\n",
       "    <tr>\n",
       "      <th>75%</th>\n",
       "      <td>5416.750000</td>\n",
       "      <td>767.250000</td>\n",
       "      <td>2781.500000</td>\n",
       "      <td>1.865125e+04</td>\n",
       "      <td>5173.250000</td>\n",
       "      <td>7.589250e+03</td>\n",
       "      <td>16055.750000</td>\n",
       "      <td>10609.750000</td>\n",
       "      <td>16744.250000</td>\n",
       "      <td>9806.500000</td>\n",
       "      <td>...</td>\n",
       "      <td>100.0</td>\n",
       "      <td>100.0</td>\n",
       "      <td>100.0</td>\n",
       "      <td>100.0</td>\n",
       "      <td>100.0</td>\n",
       "      <td>100.0</td>\n",
       "      <td>100.0</td>\n",
       "      <td>100.0</td>\n",
       "      <td>264.750000</td>\n",
       "      <td>25.078896</td>\n",
       "    </tr>\n",
       "    <tr>\n",
       "      <th>max</th>\n",
       "      <td>9281.000000</td>\n",
       "      <td>14839.000000</td>\n",
       "      <td>47742.000000</td>\n",
       "      <td>1.967611e+06</td>\n",
       "      <td>751769.000000</td>\n",
       "      <td>1.048290e+06</td>\n",
       "      <td>698471.000000</td>\n",
       "      <td>129148.000000</td>\n",
       "      <td>243122.000000</td>\n",
       "      <td>236829.000000</td>\n",
       "      <td>...</td>\n",
       "      <td>100.0</td>\n",
       "      <td>100.0</td>\n",
       "      <td>100.0</td>\n",
       "      <td>100.0</td>\n",
       "      <td>100.0</td>\n",
       "      <td>100.0</td>\n",
       "      <td>100.0</td>\n",
       "      <td>100.0</td>\n",
       "      <td>3127.000000</td>\n",
       "      <td>78.896377</td>\n",
       "    </tr>\n",
       "  </tbody>\n",
       "</table>\n",
       "<p>8 rows × 598 columns</p>\n",
       "</div>"
      ],
      "text/plain": [
       "         NAC4_code   TOTAL_UNITS        TOTAL1        TOTAL2         TOTAL3  \\\n",
       "count   310.000000    310.000000    310.000000  3.100000e+02     310.000000   \n",
       "mean   4562.651613    760.448387   2586.516129  2.930962e+04    8894.890323   \n",
       "std    1804.631761   1543.459327   4540.177516  1.208374e+05   44885.014573   \n",
       "min    1111.000000      3.000000      0.000000  4.000000e+00       1.000000   \n",
       "25%    3287.000000    116.500000    435.000000  1.509000e+03     521.250000   \n",
       "50%    4482.500000    327.500000   1132.500000  5.187500e+03    1746.000000   \n",
       "75%    5416.750000    767.250000   2781.500000  1.865125e+04    5173.250000   \n",
       "max    9281.000000  14839.000000  47742.000000  1.967611e+06  751769.000000   \n",
       "\n",
       "             TOTAL4         TOTAL5         TOTAL6         TOTAL7  \\\n",
       "count  3.100000e+02     310.000000     310.000000     310.000000   \n",
       "mean   1.483933e+04   19744.312903    9243.235484   15634.006452   \n",
       "std    7.860272e+04   57172.284966   16706.174691   26186.133686   \n",
       "min    0.000000e+00      21.000000       0.000000       0.000000   \n",
       "25%    5.692500e+02    1876.000000     651.750000    1343.000000   \n",
       "50%    2.079000e+03    6008.000000    2748.000000    6178.500000   \n",
       "75%    7.589250e+03   16055.750000   10609.750000   16744.250000   \n",
       "max    1.048290e+06  698471.000000  129148.000000  243122.000000   \n",
       "\n",
       "              TOTAL8  ...  PTOTAL3  PTOTAL4  PTOTAL5  PTOTAL6  PTOTAL7  \\\n",
       "count     310.000000  ...    310.0    310.0    310.0    310.0    310.0   \n",
       "mean    11075.754839  ...    100.0    100.0    100.0    100.0    100.0   \n",
       "std     23358.862881  ...      0.0      0.0      0.0      0.0      0.0   \n",
       "min         0.000000  ...    100.0    100.0    100.0    100.0    100.0   \n",
       "25%      1053.000000  ...    100.0    100.0    100.0    100.0    100.0   \n",
       "50%      3757.500000  ...    100.0    100.0    100.0    100.0    100.0   \n",
       "75%      9806.500000  ...    100.0    100.0    100.0    100.0    100.0   \n",
       "max    236829.000000  ...    100.0    100.0    100.0    100.0    100.0   \n",
       "\n",
       "       PTOTAL8  PTOTAL9  PTOTAL10        FIRMS     pctofst  \n",
       "count    310.0    310.0     310.0   310.000000  310.000000  \n",
       "mean     100.0    100.0     100.0   252.180645   19.174283  \n",
       "std        0.0      0.0       0.0   373.322873   15.693164  \n",
       "min      100.0    100.0     100.0     3.000000    1.167199  \n",
       "25%      100.0    100.0     100.0    47.250000    8.238706  \n",
       "50%      100.0    100.0     100.0   127.000000   14.037391  \n",
       "75%      100.0    100.0     100.0   264.750000   25.078896  \n",
       "max      100.0    100.0     100.0  3127.000000   78.896377  \n",
       "\n",
       "[8 rows x 598 columns]"
      ]
     },
     "execution_count": 5,
     "metadata": {},
     "output_type": "execute_result"
    }
   ],
   "source": [
    "job.describe()"
   ]
  },
  {
   "cell_type": "code",
   "execution_count": 6,
   "id": "390dce30",
   "metadata": {},
   "outputs": [],
   "source": [
    "# 복사\n",
    "job_data = job.copy()"
   ]
  },
  {
   "cell_type": "code",
   "execution_count": 7,
   "id": "1dc4e829",
   "metadata": {},
   "outputs": [
    {
     "data": {
      "text/plain": [
       "NAC4_code      0\n",
       "TOTAL_UNITS    0\n",
       "TOTAL1         0\n",
       "TOTAL2         0\n",
       "TOTAL3         0\n",
       "              ..\n",
       "PTOTAL9        0\n",
       "PTOTAL10       0\n",
       "NAC4_Label     0\n",
       "FIRMS          0\n",
       "pctofst        0\n",
       "Length: 599, dtype: int64"
      ]
     },
     "execution_count": 7,
     "metadata": {},
     "output_type": "execute_result"
    }
   ],
   "source": [
    "# null 값\n",
    "job_data.isna().sum()"
   ]
  },
  {
   "cell_type": "code",
   "execution_count": 8,
   "id": "43c03233",
   "metadata": {
    "scrolled": true
   },
   "outputs": [
    {
     "data": {
      "text/plain": [
       "NAC4_code        int64\n",
       "TOTAL_UNITS      int64\n",
       "TOTAL1           int64\n",
       "TOTAL2           int64\n",
       "TOTAL3           int64\n",
       "                ...   \n",
       "PTOTAL9          int64\n",
       "PTOTAL10         int64\n",
       "NAC4_Label      object\n",
       "FIRMS            int64\n",
       "pctofst        float64\n",
       "Length: 599, dtype: object"
      ]
     },
     "execution_count": 8,
     "metadata": {},
     "output_type": "execute_result"
    }
   ],
   "source": [
    "job_data.dtypes"
   ]
  },
  {
   "cell_type": "code",
   "execution_count": 9,
   "id": "233632d7",
   "metadata": {
    "scrolled": false
   },
   "outputs": [
    {
     "name": "stdout",
     "output_type": "stream",
     "text": [
      "       WHMp1  WHMp1_2    WHMp2    WHMp3    WHMp4    WHMp5    WHMp6    WHMp7  \\\n",
      "0    74.6377  70.6577  63.6106  59.3625  74.3902  18.3673  80.9735  57.0858   \n",
      "1    60.1911  32.6667  44.8124  23.0216  48.1308   9.9174  11.6667   7.7504   \n",
      "2    67.0854  35.3096  39.9618  46.9298  54.5906   9.2150  17.0472   9.2811   \n",
      "3    67.5287  43.1344  36.7495  31.1155  42.0765  10.9091  35.5757  25.0153   \n",
      "4    76.2570  56.2227  45.6600  32.7801  86.9434   8.1172  35.3760  14.2629   \n",
      "..       ...      ...      ...      ...      ...      ...      ...      ...   \n",
      "305  44.8276  24.2424  20.3704  16.6667  66.6667   9.5238  75.0000  12.9032   \n",
      "306  42.4528  27.1255  16.6994  37.9310   0.0000   7.2566  45.8333  55.0000   \n",
      "307  42.8571  47.8386  27.9762  29.0323  13.6364   5.5319  50.9434  62.8319   \n",
      "308      NaN  70.8333  62.4679  75.9259      NaN   4.7619  95.8333      NaN   \n",
      "309  59.0909  60.1852  61.0151  87.0317  60.0000  13.7500  66.6667  33.3333   \n",
      "\n",
      "       WHMp8    WHMp9  ...     FTp2     FTp3      FTp4     FTp5     FTp6  \\\n",
      "0     9.1464  20.5656  ...  28.7539  30.5445   24.6341  79.0594   4.2035   \n",
      "1     1.5481   0.3676  ...  43.0464  49.2806   42.9907  77.1901  21.2037   \n",
      "2     2.3955  30.7273  ...  45.5067  24.1228   38.9578  80.7736  13.0137   \n",
      "3     5.3158  15.0794  ...  37.2671  37.1820   49.7268  81.4205  12.0957   \n",
      "4     5.0881  32.6241  ...  40.4848  38.5892   10.2642  87.8661   4.8747   \n",
      "..       ...      ...  ...      ...      ...       ...      ...      ...   \n",
      "305   5.1282      NaN  ...  70.3704  33.3333   33.3333  80.9524   0.0000   \n",
      "306  40.0000  19.2935  ...  69.9411  24.1379  100.0000  86.1947   0.0000   \n",
      "307  38.9831  16.5580  ...  58.9286  38.7097   69.6970  85.1064   0.0000   \n",
      "308      NaN      NaN  ...  19.5373  12.9630       NaN  95.2381   0.0000   \n",
      "309   6.4732  50.0000  ...  26.5659   2.3055   40.0000  76.2500   0.0000   \n",
      "\n",
      "        FTp7     FTp8     FTp9    FTp10    pctofst  \n",
      "0    22.6547  37.9628  69.9229  34.2566  32.785979  \n",
      "1    25.2642  28.3945  40.0735  29.1742  10.667449  \n",
      "2    23.0112  30.8029  54.9091  30.7088   8.048898  \n",
      "3    18.9222  35.0048  34.6561  34.7645   9.879636  \n",
      "4    22.7327  25.1469  23.4043  29.5746  27.654609  \n",
      "..       ...      ...      ...      ...        ...  \n",
      "305   0.0000  21.7949      NaN  44.1640  42.271293  \n",
      "306  30.0000  27.5676  45.1087  60.7900  16.233141  \n",
      "307  11.0619  18.6441  46.0235  47.0567  32.964681  \n",
      "308      NaN      NaN      NaN  21.0616  69.349315  \n",
      "309  46.6667  10.8817  50.0000  16.6182  53.282975  \n",
      "\n",
      "[310 rows x 287 columns]\n"
     ]
    }
   ],
   "source": [
    "print(job_data.loc[:, job_data.dtypes=='float64'])"
   ]
  },
  {
   "cell_type": "code",
   "execution_count": 10,
   "id": "c6ba8266",
   "metadata": {},
   "outputs": [
    {
     "data": {
      "text/plain": [
       "Software Publishers                                                                     1\n",
       "Aerospace Product and Parts Manufacturing                                               1\n",
       "Scenic and Sightseeing Transportation, Land                                             1\n",
       "Wholesale Electronic Markets and Agents and Brokers                                     1\n",
       "Animal Slaughtering and Processing                                                      1\n",
       "                                                                                       ..\n",
       "Resin, Synthetic Rubber, and Artificial Synthetic Fibers and Filaments Manufacturing    1\n",
       "Civic and Social Organizations                                                          1\n",
       "Full-Service Restaurants                                                                1\n",
       "Rail Transportation                                                                     1\n",
       "Grantmaking and Giving Services                                                         1\n",
       "Name: NAC4_Label, Length: 310, dtype: int64"
      ]
     },
     "execution_count": 10,
     "metadata": {},
     "output_type": "execute_result"
    }
   ],
   "source": [
    "job_data['NAC4_Label'].value_counts()"
   ]
  },
  {
   "cell_type": "markdown",
   "id": "f992004c",
   "metadata": {},
   "source": [
    "- NAC4_Label은 업종인 것 같은데, 종류가 너무 많아 가변수화기 어려우므로 삭제한다. NAC4_code는 unique한 값이고 별 의미 없어 보여서 삭제."
   ]
  },
  {
   "cell_type": "code",
   "execution_count": 11,
   "id": "c1a93c6f",
   "metadata": {},
   "outputs": [],
   "source": [
    "# 열 삭제\n",
    "job_data = job_data.drop(['NAC4_Label', 'NAC4_code'], axis=1)"
   ]
  },
  {
   "cell_type": "code",
   "execution_count": 12,
   "id": "ed43799c",
   "metadata": {},
   "outputs": [
    {
     "data": {
      "image/png": "[encoded data removed]",
      "text/plain": [
       "<Figure size 432x288 with 1 Axes>"
      ]
     },
     "metadata": {
      "image/png": {
       "height": 279,
       "width": 382
      },
      "needs_background": "light"
     },
     "output_type": "display_data"
    }
   ],
   "source": [
    "# target 변수인 pctofst의 분포 (pctofst는 발전기 개수?인듯)\n",
    "pc_mean = job_data['pctofst'].mean()\n",
    "\n",
    "plt.title('pctofst', fontsize=16)\n",
    "sns.histplot(job_data['pctofst'], bins=50, color='hotpink', kde=True)\n",
    "plt.axvline(pc_mean, color='c')\n",
    "plt.show()"
   ]
  },
  {
   "cell_type": "code",
   "execution_count": 13,
   "id": "d9e2fa98",
   "metadata": {},
   "outputs": [
    {
     "data": {
      "image/png": "[encoded data removed]",
      "text/plain": [
       "<Figure size 432x288 with 1 Axes>"
      ]
     },
     "metadata": {
      "image/png": {
       "height": 235,
       "width": 382
      },
      "needs_background": "light"
     },
     "output_type": "display_data"
    }
   ],
   "source": [
    "sns.boxplot(y=job_data['pctofst'], color='powderblue')\n",
    "plt.show()"
   ]
  },
  {
   "cell_type": "code",
   "execution_count": 14,
   "id": "32b5c0dd",
   "metadata": {},
   "outputs": [
    {
     "data": {
      "image/png": "[encoded data removed]",
      "text/plain": [
       "<Figure size 432x288 with 1 Axes>"
      ]
     },
     "metadata": {
      "image/png": {
       "height": 279,
       "width": 388
      },
      "needs_background": "light"
     },
     "output_type": "display_data"
    }
   ],
   "source": [
    "# FIRMS(회사)의 분포\n",
    "firms_mean = job_data['FIRMS'].mean()\n",
    "\n",
    "plt.title('FIRMS', fontsize=16)\n",
    "sns.histplot(job_data['FIRMS'], bins=50, color='dodgerblue', kde=True)\n",
    "plt.axvline(firms_mean, color='r')\n",
    "plt.show()"
   ]
  },
  {
   "cell_type": "code",
   "execution_count": 15,
   "id": "00e300c9",
   "metadata": {},
   "outputs": [
    {
     "data": {
      "image/png": "[encoded data removed]",
      "text/plain": [
       "<Figure size 432x288 with 1 Axes>"
      ]
     },
     "metadata": {
      "image/png": {
       "height": 235,
       "width": 395
      },
      "needs_background": "light"
     },
     "output_type": "display_data"
    }
   ],
   "source": [
    "sns.boxplot(y=job_data['FIRMS'], color='powderblue')\n",
    "plt.show()"
   ]
  },
  {
   "cell_type": "code",
   "execution_count": 16,
   "id": "4838d156",
   "metadata": {},
   "outputs": [
    {
     "data": {
      "image/png": "[encoded data removed]",
      "text/plain": [
       "<Figure size 432x288 with 1 Axes>"
      ]
     },
     "metadata": {
      "image/png": {
       "height": 279,
       "width": 388
      },
      "needs_background": "light"
     },
     "output_type": "display_data"
    }
   ],
   "source": [
    "# TOTAL_UNITS의 분포\n",
    "tu_mean = job_data['TOTAL_UNITS'].mean()\n",
    "\n",
    "plt.title('TOTAL_UNITS', fontsize=16)\n",
    "sns.histplot(job_data['TOTAL_UNITS'], bins=50, color='slategray', kde=True)\n",
    "plt.axvline(tu_mean, color='purple')\n",
    "plt.show()"
   ]
  },
  {
   "cell_type": "code",
   "execution_count": 17,
   "id": "43a0a21c",
   "metadata": {},
   "outputs": [
    {
     "data": {
      "image/png": "[encoded data removed]",
      "text/plain": [
       "<Figure size 432x288 with 1 Axes>"
      ]
     },
     "metadata": {
      "image/png": {
       "height": 235,
       "width": 401
      },
      "needs_background": "light"
     },
     "output_type": "display_data"
    }
   ],
   "source": [
    "sns.boxplot(y=job_data['TOTAL_UNITS'], color='powderblue')\n",
    "plt.show()"
   ]
  },
  {
   "cell_type": "code",
   "execution_count": 18,
   "id": "ef4bedf2",
   "metadata": {},
   "outputs": [
    {
     "data": {
      "image/png": "[encoded data removed]",
      "text/plain": [
       "<Figure size 432x288 with 1 Axes>"
      ]
     },
     "metadata": {
      "image/png": {
       "height": 261,
       "width": 390
      },
      "needs_background": "light"
     },
     "output_type": "display_data"
    }
   ],
   "source": [
    "sns.regplot('FIRMS', 'pctofst', data=job_data, color='plum')\n",
    "plt.axhline(0, color='lightgray')\n",
    "plt.show()"
   ]
  },
  {
   "cell_type": "code",
   "execution_count": 19,
   "id": "e4ffff84",
   "metadata": {},
   "outputs": [
    {
     "data": {
      "image/png": "[encoded data removed]",
      "text/plain": [
       "<Figure size 432x288 with 1 Axes>"
      ]
     },
     "metadata": {
      "image/png": {
       "height": 261,
       "width": 390
      },
      "needs_background": "light"
     },
     "output_type": "display_data"
    }
   ],
   "source": [
    "sns.regplot('TOTAL_UNITS', 'pctofst', data=job_data, color='orange')\n",
    "plt.axhline(0, color='lightgray')\n",
    "plt.show()"
   ]
  },
  {
   "cell_type": "code",
   "execution_count": 20,
   "id": "210b3a7e",
   "metadata": {},
   "outputs": [
    {
     "data": {
      "text/plain": [
       "(-0.3740423053173497, 9.910830985869486e-12)"
      ]
     },
     "execution_count": 20,
     "metadata": {},
     "output_type": "execute_result"
    }
   ],
   "source": [
    "# 상관계수 : FIRMS - pctofst\n",
    "import scipy.stats as spst\n",
    "spst.pearsonr(job_data['FIRMS'], job_data['pctofst'])"
   ]
  },
  {
   "cell_type": "markdown",
   "id": "44109c51",
   "metadata": {},
   "source": [
    "- FIRMS - pctofst : 음의 상관관계(중간)"
   ]
  },
  {
   "cell_type": "code",
   "execution_count": 21,
   "id": "a4fce26a",
   "metadata": {},
   "outputs": [
    {
     "data": {
      "text/plain": [
       "(-0.13464772486857426, 0.017694393593303683)"
      ]
     },
     "execution_count": 21,
     "metadata": {},
     "output_type": "execute_result"
    }
   ],
   "source": [
    "# 상관계수 : TOTAL_UNITS - pctofst\n",
    "import scipy.stats as spst\n",
    "spst.pearsonr(job_data['TOTAL_UNITS'], job_data['pctofst'])"
   ]
  },
  {
   "cell_type": "markdown",
   "id": "8e2fa5ff",
   "metadata": {},
   "source": [
    "- TOTAL_UNITS - pctofst : 음의 상관관계(약함)"
   ]
  },
  {
   "cell_type": "code",
   "execution_count": 22,
   "id": "184a97ba",
   "metadata": {},
   "outputs": [
    {
     "data": {
      "text/html": [
       "<div>\n",
       "<style scoped>\n",
       "    .dataframe tbody tr th:only-of-type {\n",
       "        vertical-align: middle;\n",
       "    }\n",
       "\n",
       "    .dataframe tbody tr th {\n",
       "        vertical-align: top;\n",
       "    }\n",
       "\n",
       "    .dataframe thead th {\n",
       "        text-align: right;\n",
       "    }\n",
       "</style>\n",
       "<table border=\"1\" class=\"dataframe\">\n",
       "  <thead>\n",
       "    <tr style=\"text-align: right;\">\n",
       "      <th></th>\n",
       "      <th>TOTAL_UNITS</th>\n",
       "      <th>TOTAL1</th>\n",
       "      <th>TOTAL2</th>\n",
       "      <th>TOTAL3</th>\n",
       "      <th>TOTAL4</th>\n",
       "      <th>TOTAL5</th>\n",
       "      <th>TOTAL6</th>\n",
       "      <th>TOTAL7</th>\n",
       "      <th>TOTAL8</th>\n",
       "      <th>TOTAL9</th>\n",
       "      <th>...</th>\n",
       "      <th>PTOTAL3</th>\n",
       "      <th>PTOTAL4</th>\n",
       "      <th>PTOTAL5</th>\n",
       "      <th>PTOTAL6</th>\n",
       "      <th>PTOTAL7</th>\n",
       "      <th>PTOTAL8</th>\n",
       "      <th>PTOTAL9</th>\n",
       "      <th>PTOTAL10</th>\n",
       "      <th>FIRMS</th>\n",
       "      <th>pctofst</th>\n",
       "    </tr>\n",
       "  </thead>\n",
       "  <tbody>\n",
       "    <tr>\n",
       "      <th>TOTAL_UNITS</th>\n",
       "      <td>1.000000</td>\n",
       "      <td>0.515207</td>\n",
       "      <td>0.283835</td>\n",
       "      <td>0.281945</td>\n",
       "      <td>0.641704</td>\n",
       "      <td>0.404115</td>\n",
       "      <td>0.229605</td>\n",
       "      <td>0.256509</td>\n",
       "      <td>0.440011</td>\n",
       "      <td>0.700499</td>\n",
       "      <td>...</td>\n",
       "      <td>NaN</td>\n",
       "      <td>NaN</td>\n",
       "      <td>NaN</td>\n",
       "      <td>NaN</td>\n",
       "      <td>NaN</td>\n",
       "      <td>NaN</td>\n",
       "      <td>NaN</td>\n",
       "      <td>NaN</td>\n",
       "      <td>0.628368</td>\n",
       "      <td>-0.134648</td>\n",
       "    </tr>\n",
       "    <tr>\n",
       "      <th>TOTAL1</th>\n",
       "      <td>0.515207</td>\n",
       "      <td>1.000000</td>\n",
       "      <td>0.799956</td>\n",
       "      <td>0.690952</td>\n",
       "      <td>0.096640</td>\n",
       "      <td>0.859757</td>\n",
       "      <td>0.250799</td>\n",
       "      <td>0.153868</td>\n",
       "      <td>0.140179</td>\n",
       "      <td>0.409445</td>\n",
       "      <td>...</td>\n",
       "      <td>NaN</td>\n",
       "      <td>NaN</td>\n",
       "      <td>NaN</td>\n",
       "      <td>NaN</td>\n",
       "      <td>NaN</td>\n",
       "      <td>NaN</td>\n",
       "      <td>NaN</td>\n",
       "      <td>NaN</td>\n",
       "      <td>0.803866</td>\n",
       "      <td>-0.286087</td>\n",
       "    </tr>\n",
       "    <tr>\n",
       "      <th>TOTAL2</th>\n",
       "      <td>0.283835</td>\n",
       "      <td>0.799956</td>\n",
       "      <td>1.000000</td>\n",
       "      <td>0.955401</td>\n",
       "      <td>0.022358</td>\n",
       "      <td>0.826905</td>\n",
       "      <td>0.158371</td>\n",
       "      <td>0.044448</td>\n",
       "      <td>0.025807</td>\n",
       "      <td>0.399756</td>\n",
       "      <td>...</td>\n",
       "      <td>NaN</td>\n",
       "      <td>NaN</td>\n",
       "      <td>NaN</td>\n",
       "      <td>NaN</td>\n",
       "      <td>NaN</td>\n",
       "      <td>NaN</td>\n",
       "      <td>NaN</td>\n",
       "      <td>NaN</td>\n",
       "      <td>0.481910</td>\n",
       "      <td>-0.132594</td>\n",
       "    </tr>\n",
       "    <tr>\n",
       "      <th>TOTAL3</th>\n",
       "      <td>0.281945</td>\n",
       "      <td>0.690952</td>\n",
       "      <td>0.955401</td>\n",
       "      <td>1.000000</td>\n",
       "      <td>0.020562</td>\n",
       "      <td>0.737614</td>\n",
       "      <td>0.170600</td>\n",
       "      <td>0.055207</td>\n",
       "      <td>0.061532</td>\n",
       "      <td>0.464871</td>\n",
       "      <td>...</td>\n",
       "      <td>NaN</td>\n",
       "      <td>NaN</td>\n",
       "      <td>NaN</td>\n",
       "      <td>NaN</td>\n",
       "      <td>NaN</td>\n",
       "      <td>NaN</td>\n",
       "      <td>NaN</td>\n",
       "      <td>NaN</td>\n",
       "      <td>0.463912</td>\n",
       "      <td>-0.103475</td>\n",
       "    </tr>\n",
       "    <tr>\n",
       "      <th>TOTAL4</th>\n",
       "      <td>0.641704</td>\n",
       "      <td>0.096640</td>\n",
       "      <td>0.022358</td>\n",
       "      <td>0.020562</td>\n",
       "      <td>1.000000</td>\n",
       "      <td>0.133940</td>\n",
       "      <td>0.096211</td>\n",
       "      <td>0.190259</td>\n",
       "      <td>0.408449</td>\n",
       "      <td>0.105580</td>\n",
       "      <td>...</td>\n",
       "      <td>NaN</td>\n",
       "      <td>NaN</td>\n",
       "      <td>NaN</td>\n",
       "      <td>NaN</td>\n",
       "      <td>NaN</td>\n",
       "      <td>NaN</td>\n",
       "      <td>NaN</td>\n",
       "      <td>NaN</td>\n",
       "      <td>0.073982</td>\n",
       "      <td>0.047991</td>\n",
       "    </tr>\n",
       "    <tr>\n",
       "      <th>...</th>\n",
       "      <td>...</td>\n",
       "      <td>...</td>\n",
       "      <td>...</td>\n",
       "      <td>...</td>\n",
       "      <td>...</td>\n",
       "      <td>...</td>\n",
       "      <td>...</td>\n",
       "      <td>...</td>\n",
       "      <td>...</td>\n",
       "      <td>...</td>\n",
       "      <td>...</td>\n",
       "      <td>...</td>\n",
       "      <td>...</td>\n",
       "      <td>...</td>\n",
       "      <td>...</td>\n",
       "      <td>...</td>\n",
       "      <td>...</td>\n",
       "      <td>...</td>\n",
       "      <td>...</td>\n",
       "      <td>...</td>\n",
       "      <td>...</td>\n",
       "    </tr>\n",
       "    <tr>\n",
       "      <th>PTOTAL8</th>\n",
       "      <td>NaN</td>\n",
       "      <td>NaN</td>\n",
       "      <td>NaN</td>\n",
       "      <td>NaN</td>\n",
       "      <td>NaN</td>\n",
       "      <td>NaN</td>\n",
       "      <td>NaN</td>\n",
       "      <td>NaN</td>\n",
       "      <td>NaN</td>\n",
       "      <td>NaN</td>\n",
       "      <td>...</td>\n",
       "      <td>NaN</td>\n",
       "      <td>NaN</td>\n",
       "      <td>NaN</td>\n",
       "      <td>NaN</td>\n",
       "      <td>NaN</td>\n",
       "      <td>NaN</td>\n",
       "      <td>NaN</td>\n",
       "      <td>NaN</td>\n",
       "      <td>NaN</td>\n",
       "      <td>NaN</td>\n",
       "    </tr>\n",
       "    <tr>\n",
       "      <th>PTOTAL9</th>\n",
       "      <td>NaN</td>\n",
       "      <td>NaN</td>\n",
       "      <td>NaN</td>\n",
       "      <td>NaN</td>\n",
       "      <td>NaN</td>\n",
       "      <td>NaN</td>\n",
       "      <td>NaN</td>\n",
       "      <td>NaN</td>\n",
       "      <td>NaN</td>\n",
       "      <td>NaN</td>\n",
       "      <td>...</td>\n",
       "      <td>NaN</td>\n",
       "      <td>NaN</td>\n",
       "      <td>NaN</td>\n",
       "      <td>NaN</td>\n",
       "      <td>NaN</td>\n",
       "      <td>NaN</td>\n",
       "      <td>NaN</td>\n",
       "      <td>NaN</td>\n",
       "      <td>NaN</td>\n",
       "      <td>NaN</td>\n",
       "    </tr>\n",
       "    <tr>\n",
       "      <th>PTOTAL10</th>\n",
       "      <td>NaN</td>\n",
       "      <td>NaN</td>\n",
       "      <td>NaN</td>\n",
       "      <td>NaN</td>\n",
       "      <td>NaN</td>\n",
       "      <td>NaN</td>\n",
       "      <td>NaN</td>\n",
       "      <td>NaN</td>\n",
       "      <td>NaN</td>\n",
       "      <td>NaN</td>\n",
       "      <td>...</td>\n",
       "      <td>NaN</td>\n",
       "      <td>NaN</td>\n",
       "      <td>NaN</td>\n",
       "      <td>NaN</td>\n",
       "      <td>NaN</td>\n",
       "      <td>NaN</td>\n",
       "      <td>NaN</td>\n",
       "      <td>NaN</td>\n",
       "      <td>NaN</td>\n",
       "      <td>NaN</td>\n",
       "    </tr>\n",
       "    <tr>\n",
       "      <th>FIRMS</th>\n",
       "      <td>0.628368</td>\n",
       "      <td>0.803866</td>\n",
       "      <td>0.481910</td>\n",
       "      <td>0.463912</td>\n",
       "      <td>0.073982</td>\n",
       "      <td>0.567275</td>\n",
       "      <td>0.342128</td>\n",
       "      <td>0.228813</td>\n",
       "      <td>0.259978</td>\n",
       "      <td>0.526625</td>\n",
       "      <td>...</td>\n",
       "      <td>NaN</td>\n",
       "      <td>NaN</td>\n",
       "      <td>NaN</td>\n",
       "      <td>NaN</td>\n",
       "      <td>NaN</td>\n",
       "      <td>NaN</td>\n",
       "      <td>NaN</td>\n",
       "      <td>NaN</td>\n",
       "      <td>1.000000</td>\n",
       "      <td>-0.374042</td>\n",
       "    </tr>\n",
       "    <tr>\n",
       "      <th>pctofst</th>\n",
       "      <td>-0.134648</td>\n",
       "      <td>-0.286087</td>\n",
       "      <td>-0.132594</td>\n",
       "      <td>-0.103475</td>\n",
       "      <td>0.047991</td>\n",
       "      <td>-0.136471</td>\n",
       "      <td>-0.194336</td>\n",
       "      <td>-0.111666</td>\n",
       "      <td>-0.062538</td>\n",
       "      <td>-0.094122</td>\n",
       "      <td>...</td>\n",
       "      <td>NaN</td>\n",
       "      <td>NaN</td>\n",
       "      <td>NaN</td>\n",
       "      <td>NaN</td>\n",
       "      <td>NaN</td>\n",
       "      <td>NaN</td>\n",
       "      <td>NaN</td>\n",
       "      <td>NaN</td>\n",
       "      <td>-0.374042</td>\n",
       "      <td>1.000000</td>\n",
       "    </tr>\n",
       "  </tbody>\n",
       "</table>\n",
       "<p>597 rows × 597 columns</p>\n",
       "</div>"
      ],
      "text/plain": [
       "             TOTAL_UNITS    TOTAL1    TOTAL2    TOTAL3    TOTAL4    TOTAL5  \\\n",
       "TOTAL_UNITS     1.000000  0.515207  0.283835  0.281945  0.641704  0.404115   \n",
       "TOTAL1          0.515207  1.000000  0.799956  0.690952  0.096640  0.859757   \n",
       "TOTAL2          0.283835  0.799956  1.000000  0.955401  0.022358  0.826905   \n",
       "TOTAL3          0.281945  0.690952  0.955401  1.000000  0.020562  0.737614   \n",
       "TOTAL4          0.641704  0.096640  0.022358  0.020562  1.000000  0.133940   \n",
       "...                  ...       ...       ...       ...       ...       ...   \n",
       "PTOTAL8              NaN       NaN       NaN       NaN       NaN       NaN   \n",
       "PTOTAL9              NaN       NaN       NaN       NaN       NaN       NaN   \n",
       "PTOTAL10             NaN       NaN       NaN       NaN       NaN       NaN   \n",
       "FIRMS           0.628368  0.803866  0.481910  0.463912  0.073982  0.567275   \n",
       "pctofst        -0.134648 -0.286087 -0.132594 -0.103475  0.047991 -0.136471   \n",
       "\n",
       "               TOTAL6    TOTAL7    TOTAL8    TOTAL9  ...  PTOTAL3  PTOTAL4  \\\n",
       "TOTAL_UNITS  0.229605  0.256509  0.440011  0.700499  ...      NaN      NaN   \n",
       "TOTAL1       0.250799  0.153868  0.140179  0.409445  ...      NaN      NaN   \n",
       "TOTAL2       0.158371  0.044448  0.025807  0.399756  ...      NaN      NaN   \n",
       "TOTAL3       0.170600  0.055207  0.061532  0.464871  ...      NaN      NaN   \n",
       "TOTAL4       0.096211  0.190259  0.408449  0.105580  ...      NaN      NaN   \n",
       "...               ...       ...       ...       ...  ...      ...      ...   \n",
       "PTOTAL8           NaN       NaN       NaN       NaN  ...      NaN      NaN   \n",
       "PTOTAL9           NaN       NaN       NaN       NaN  ...      NaN      NaN   \n",
       "PTOTAL10          NaN       NaN       NaN       NaN  ...      NaN      NaN   \n",
       "FIRMS        0.342128  0.228813  0.259978  0.526625  ...      NaN      NaN   \n",
       "pctofst     -0.194336 -0.111666 -0.062538 -0.094122  ...      NaN      NaN   \n",
       "\n",
       "             PTOTAL5  PTOTAL6  PTOTAL7  PTOTAL8  PTOTAL9  PTOTAL10     FIRMS  \\\n",
       "TOTAL_UNITS      NaN      NaN      NaN      NaN      NaN       NaN  0.628368   \n",
       "TOTAL1           NaN      NaN      NaN      NaN      NaN       NaN  0.803866   \n",
       "TOTAL2           NaN      NaN      NaN      NaN      NaN       NaN  0.481910   \n",
       "TOTAL3           NaN      NaN      NaN      NaN      NaN       NaN  0.463912   \n",
       "TOTAL4           NaN      NaN      NaN      NaN      NaN       NaN  0.073982   \n",
       "...              ...      ...      ...      ...      ...       ...       ...   \n",
       "PTOTAL8          NaN      NaN      NaN      NaN      NaN       NaN       NaN   \n",
       "PTOTAL9          NaN      NaN      NaN      NaN      NaN       NaN       NaN   \n",
       "PTOTAL10         NaN      NaN      NaN      NaN      NaN       NaN       NaN   \n",
       "FIRMS            NaN      NaN      NaN      NaN      NaN       NaN  1.000000   \n",
       "pctofst          NaN      NaN      NaN      NaN      NaN       NaN -0.374042   \n",
       "\n",
       "              pctofst  \n",
       "TOTAL_UNITS -0.134648  \n",
       "TOTAL1      -0.286087  \n",
       "TOTAL2      -0.132594  \n",
       "TOTAL3      -0.103475  \n",
       "TOTAL4       0.047991  \n",
       "...               ...  \n",
       "PTOTAL8           NaN  \n",
       "PTOTAL9           NaN  \n",
       "PTOTAL10          NaN  \n",
       "FIRMS       -0.374042  \n",
       "pctofst      1.000000  \n",
       "\n",
       "[597 rows x 597 columns]"
      ]
     },
     "execution_count": 22,
     "metadata": {},
     "output_type": "execute_result"
    }
   ],
   "source": [
    "job_data.corr()"
   ]
  },
  {
   "cell_type": "markdown",
   "id": "e825f36a",
   "metadata": {},
   "source": [
    "- 상관관계가 없는 PTOTAL1, PTOTAL2, ..., PTOTAL10 열을 삭제"
   ]
  },
  {
   "cell_type": "code",
   "execution_count": 23,
   "id": "5092797f",
   "metadata": {},
   "outputs": [],
   "source": [
    "# 열 삭제 2\n",
    "drop_cols = ['PTOTAL1', 'PTOTAL2', 'PTOTAL3', 'PTOTAL4', 'PTOTAL5',\n",
    "             'PTOTAL6', 'PTOTAL7', 'PTOTAL8', 'PTOTAL9', 'PTOTAL10', 'PTOTAL1_2']\n",
    "job_data = job_data.drop(drop_cols, axis=1)"
   ]
  },
  {
   "cell_type": "code",
   "execution_count": 24,
   "id": "d22b17da",
   "metadata": {},
   "outputs": [],
   "source": [
    "# 결측치 채우기(앞의 값으로)\n",
    "job_data = job_data.fillna(method='ffill')"
   ]
  },
  {
   "cell_type": "markdown",
   "id": "36d5b57b",
   "metadata": {},
   "source": [
    " "
   ]
  },
  {
   "cell_type": "markdown",
   "id": "390ab957",
   "metadata": {},
   "source": [
    "### 2. x, y 분리 / train set, test set으로 분리"
   ]
  },
  {
   "cell_type": "code",
   "execution_count": 25,
   "id": "c2c5d912",
   "metadata": {},
   "outputs": [],
   "source": [
    "# x, y 분리\n",
    "target = 'pctofst'\n",
    "\n",
    "x = job_data.drop(target, axis=1)\n",
    "y = job[target]"
   ]
  },
  {
   "cell_type": "code",
   "execution_count": 26,
   "id": "21704dcf",
   "metadata": {},
   "outputs": [],
   "source": [
    "# train test split 불러오기\n",
    "from sklearn.model_selection import train_test_split"
   ]
  },
  {
   "cell_type": "code",
   "execution_count": 27,
   "id": "65017566",
   "metadata": {},
   "outputs": [],
   "source": [
    "x_train, x_test, y_train, y_test = train_test_split(x, y, test_size=0.2, random_state=42)"
   ]
  },
  {
   "cell_type": "code",
   "execution_count": 28,
   "id": "272a20a8",
   "metadata": {},
   "outputs": [],
   "source": [
    "# MinMaxScaler 불러오기\n",
    "from sklearn.preprocessing import MinMaxScaler"
   ]
  },
  {
   "cell_type": "code",
   "execution_count": 29,
   "id": "17eddb2c",
   "metadata": {},
   "outputs": [],
   "source": [
    "# x 정규화\n",
    "scaler = MinMaxScaler()\n",
    "x_train = scaler.fit_transform(x_train)\n",
    "x_test = scaler.transform(x_test)"
   ]
  },
  {
   "cell_type": "markdown",
   "id": "8a9b1dfd",
   "metadata": {},
   "source": [
    "### 3. Machine Learning"
   ]
  },
  {
   "cell_type": "markdown",
   "id": "49320598",
   "metadata": {},
   "source": [
    "### 1) Linear Regression"
   ]
  },
  {
   "cell_type": "code",
   "execution_count": 30,
   "id": "f23a7d1f",
   "metadata": {},
   "outputs": [
    {
     "name": "stdout",
     "output_type": "stream",
     "text": [
      "MAE : 46.1826\n",
      "RMSE : 77.3217\n",
      "R2-Score : -25.4933\n"
     ]
    }
   ],
   "source": [
    "# 1. 불러오기\n",
    "from sklearn.linear_model import LinearRegression\n",
    "from sklearn.metrics import mean_absolute_error, mean_squared_error, r2_score\n",
    "\n",
    "# 2. 선언하기\n",
    "model = LinearRegression()\n",
    "\n",
    "# 3. 학습하기\n",
    "model.fit(x_train, y_train)\n",
    "\n",
    "# 4. 예측하기\n",
    "y_pred = model.predict(x_test)\n",
    "\n",
    "# 5. 평가하기\n",
    "print('MAE : {:.4f}'.format(mean_absolute_error(y_test, y_pred)))\n",
    "print('RMSE : {:.4f}'.format(mean_squared_error(y_test, y_pred)**0.5))\n",
    "print('R2-Score : {:.4f}'.format(r2_score(y_test, y_pred)))"
   ]
  },
  {
   "cell_type": "markdown",
   "id": "b2931c86",
   "metadata": {},
   "source": [
    "- R2 score가 큰 음수가 나온 것으로 보아, 모델의 성능이 떨어지거나 샘플 데이터가 분석하기에 좋지 않은 듯"
   ]
  },
  {
   "cell_type": "markdown",
   "id": "9ecaeb45",
   "metadata": {},
   "source": [
    "### 2) KNN Regressor"
   ]
  },
  {
   "cell_type": "code",
   "execution_count": 31,
   "id": "caeb17d3",
   "metadata": {},
   "outputs": [
    {
     "name": "stdout",
     "output_type": "stream",
     "text": [
      "MAE : 9.6375\n",
      "RMSE : 14.0718\n",
      "R2-Score : 0.1225\n"
     ]
    }
   ],
   "source": [
    "# 1. 불러오기\n",
    "from sklearn.neighbors import KNeighborsRegressor\n",
    "\n",
    "# 2. 선언하기\n",
    "model = KNeighborsRegressor()\n",
    "\n",
    "# 3. 학습하기\n",
    "model.fit(x_train, y_train)\n",
    "\n",
    "# 4. 예측하기\n",
    "y_pred = model.predict(x_test)\n",
    "\n",
    "# 5. 평가하기\n",
    "print('MAE : {:.4f}'.format(mean_absolute_error(y_test, y_pred)))\n",
    "print('RMSE : {:.4f}'.format(mean_squared_error(y_test, y_pred)**0.5))\n",
    "print('R2-Score : {:.4f}'.format(r2_score(y_test, y_pred)))"
   ]
  },
  {
   "cell_type": "markdown",
   "id": "91476140",
   "metadata": {},
   "source": [
    "- n_neighbors = 10\n",
    "\n",
    "\n",
    "    - R2-Score = 0.0827\n",
    "    \n",
    "\n",
    "- n_neighbors = 15, algorithm = 'kd_tree'\n",
    "\n",
    "\n",
    "    - R2-Score = 0.1018\n",
    "    \n",
    "    \n",
    "- n_neighbors = 5(defalt)\n",
    "\n",
    "\n",
    "    - R2-Score = 0.1225"
   ]
  },
  {
   "cell_type": "code",
   "execution_count": 32,
   "id": "f24ac83b",
   "metadata": {},
   "outputs": [],
   "source": [
    "score = {}"
   ]
  },
  {
   "cell_type": "code",
   "execution_count": 33,
   "id": "2c1625f2",
   "metadata": {},
   "outputs": [],
   "source": [
    "score['R2_KNN'] = r2_score(y_test, y_pred)"
   ]
  },
  {
   "cell_type": "markdown",
   "id": "9247f070",
   "metadata": {},
   "source": [
    "### 3) Random Forest"
   ]
  },
  {
   "cell_type": "code",
   "execution_count": 34,
   "id": "a40908ef",
   "metadata": {},
   "outputs": [
    {
     "name": "stdout",
     "output_type": "stream",
     "text": [
      "MAE : 8.6204\n",
      "RMSE : 11.6952\n",
      "R2-Score : 0.3939\n"
     ]
    }
   ],
   "source": [
    "# 1. 불러오기\n",
    "from sklearn.ensemble import RandomForestRegressor\n",
    "\n",
    "# 2. 선언하기\n",
    "model = RandomForestRegressor(random_state=42)\n",
    "\n",
    "# 3. 학습하기\n",
    "model.fit(x_train, y_train)\n",
    "\n",
    "# 4. 예측하기\n",
    "y_pred = model.predict(x_test)\n",
    "\n",
    "# 5. 평가하기\n",
    "print('MAE : {:.4f}'.format(mean_absolute_error(y_test, y_pred)))\n",
    "print('RMSE : {:.4f}'.format(mean_squared_error(y_test, y_pred)**0.5))\n",
    "print('R2-Score : {:.4f}'.format(r2_score(y_test, y_pred)))"
   ]
  },
  {
   "cell_type": "markdown",
   "id": "ce56ae16",
   "metadata": {},
   "source": [
    "- n_estimators=120, max_depth=10\n",
    "\n",
    "\n",
    "    - R2-Score = 0.4059\n",
    "\n",
    "\n",
    "- n_estimators=130, max_depth=10\n",
    "\n",
    "\n",
    "    - R2-Score = 0.4117"
   ]
  },
  {
   "cell_type": "code",
   "execution_count": 35,
   "id": "1b19a138",
   "metadata": {},
   "outputs": [],
   "source": [
    "score['R2_RF'] = r2_score(y_test, y_pred)"
   ]
  },
  {
   "cell_type": "markdown",
   "id": "68258de3",
   "metadata": {},
   "source": [
    "### 4) Decision Tree"
   ]
  },
  {
   "cell_type": "code",
   "execution_count": 36,
   "id": "89213310",
   "metadata": {},
   "outputs": [
    {
     "name": "stdout",
     "output_type": "stream",
     "text": [
      "MAE : 11.6728\n",
      "RMSE : 16.5305\n",
      "R2-Score : -0.2109\n"
     ]
    }
   ],
   "source": [
    "# 1. 불러오기\n",
    "from sklearn.tree import DecisionTreeRegressor\n",
    "\n",
    "# 2. 선언하기\n",
    "model = DecisionTreeRegressor(random_state=42)\n",
    "\n",
    "# 3. 학습하기\n",
    "model.fit(x_train, y_train)\n",
    "\n",
    "# 4. 예측하기\n",
    "y_pred = model.predict(x_test)\n",
    "\n",
    "# 5. 평가하기\n",
    "print('MAE : {:.4f}'.format(mean_absolute_error(y_test, y_pred)))\n",
    "print('RMSE : {:.4f}'.format(mean_squared_error(y_test, y_pred)**0.5))\n",
    "print('R2-Score : {:.4f}'.format(r2_score(y_test, y_pred)))"
   ]
  },
  {
   "cell_type": "markdown",
   "id": "73e58f97",
   "metadata": {},
   "source": [
    "- max_depth = 10, max_features = 10\n",
    "\n",
    "\n",
    "    - R2-score =  -0.5483\n",
    "    \n",
    "    \n",
    "- max_depth = 10, max_features = 20\n",
    "\n",
    "\n",
    "    - R2-score =  -0.4387"
   ]
  },
  {
   "cell_type": "code",
   "execution_count": 37,
   "id": "345bb717",
   "metadata": {},
   "outputs": [],
   "source": [
    "score['R2_DT'] = r2_score(y_test, y_pred)"
   ]
  },
  {
   "cell_type": "markdown",
   "id": "423c860f",
   "metadata": {},
   "source": [
    "### 5) XGBoost"
   ]
  },
  {
   "cell_type": "code",
   "execution_count": 38,
   "id": "a23b33de",
   "metadata": {},
   "outputs": [
    {
     "name": "stdout",
     "output_type": "stream",
     "text": [
      "MAE : 7.7701\n",
      "RMSE : 11.0713\n",
      "R2-Score : 0.4568\n"
     ]
    }
   ],
   "source": [
    "# 1. 불러오기\n",
    "from xgboost import XGBRegressor\n",
    "\n",
    "# 2. 선언하기\n",
    "model = XGBRegressor(random_state=42)\n",
    "\n",
    "# 3. 학습하기\n",
    "model.fit(x_train, y_train)\n",
    "\n",
    "# 4. 예측하기\n",
    "y_pred = model.predict(x_test)\n",
    "\n",
    "# 5. 평가하기\n",
    "print('MAE : {:.4f}'.format(mean_absolute_error(y_test, y_pred)))\n",
    "print('RMSE : {:.4f}'.format(mean_squared_error(y_test, y_pred)**0.5))\n",
    "print('R2-Score : {:.4f}'.format(r2_score(y_test, y_pred)))"
   ]
  },
  {
   "cell_type": "markdown",
   "id": "15464ff1",
   "metadata": {},
   "source": [
    "- max_depth=10, n_estimators = 120\n",
    "\n",
    "\n",
    "    - R2-Score = 0.4280 (n_estimators=130 일때도 같은 R2-Score였다)\n",
    "\n",
    "\n",
    "- 모델들 중 가장 최적의 모델"
   ]
  },
  {
   "cell_type": "code",
   "execution_count": 39,
   "id": "18623377",
   "metadata": {},
   "outputs": [],
   "source": [
    "score['R2_XGB'] = r2_score(y_test, y_pred)"
   ]
  },
  {
   "cell_type": "markdown",
   "id": "e749837b",
   "metadata": {},
   "source": [
    "### R2-Score 비교"
   ]
  },
  {
   "cell_type": "code",
   "execution_count": 40,
   "id": "ccc1bd67",
   "metadata": {},
   "outputs": [
    {
     "data": {
      "image/png": "[encoded data removed]",
      "text/plain": [
       "<Figure size 432x288 with 1 Axes>"
      ]
     },
     "metadata": {
      "image/png": {
       "height": 261,
       "width": 396
      },
      "needs_background": "light"
     },
     "output_type": "display_data"
    },
    {
     "name": "stdout",
     "output_type": "stream",
     "text": [
      "R2_KNN: 0.1225\n",
      "R2_RF: 0.3939\n",
      "R2_DT: -0.2109\n",
      "R2_XGB: 0.4568\n"
     ]
    }
   ],
   "source": [
    "plt.barh(list(score.keys()), score.values(), alpha=0.7, color='yellowgreen')\n",
    "plt.grid(axis='x')\n",
    "plt.xlabel('R2-Score')\n",
    "plt.show()\n",
    "\n",
    "for k, v in score.items() :\n",
    "    print(f'{k}: {v:.4f}')"
   ]
  },
  {
   "cell_type": "markdown",
   "id": "803dfa9d",
   "metadata": {},
   "source": [
    " "
   ]
  },
  {
   "cell_type": "markdown",
   "id": "b3181b07",
   "metadata": {},
   "source": [
    "### 4. Deep Learning"
   ]
  },
  {
   "cell_type": "code",
   "execution_count": 41,
   "id": "7991ad77",
   "metadata": {},
   "outputs": [],
   "source": [
    "# 텐서플로우, datetime 로드\n",
    "import tensorflow as tf\n",
    "import datetime"
   ]
  },
  {
   "cell_type": "code",
   "execution_count": 42,
   "id": "92fea0f6",
   "metadata": {},
   "outputs": [],
   "source": [
    "# tensorboard note extension 로드\n",
    "%load_ext tensorboard"
   ]
  },
  {
   "cell_type": "code",
   "execution_count": 43,
   "id": "6215f01d",
   "metadata": {},
   "outputs": [],
   "source": [
    "from tensorflow.keras.backend import clear_session\n",
    "from tensorflow.keras.models import Model\n",
    "from tensorflow.keras.layers import Input, Dense\n",
    "from tensorflow.keras.activations import relu\n",
    "\n",
    "from tensorflow.keras.losses import mean_squared_error\n",
    "from tensorflow.keras.optimizers import Adam\n",
    "from tensorflow.keras.callbacks import EarlyStopping, ModelCheckpoint\n",
    "from tensorflow.keras.utils import plot_model"
   ]
  },
  {
   "cell_type": "code",
   "execution_count": 44,
   "id": "39257285",
   "metadata": {},
   "outputs": [
    {
     "data": {
      "text/plain": [
       "((248, 585), (248,))"
      ]
     },
     "execution_count": 44,
     "metadata": {},
     "output_type": "execute_result"
    }
   ],
   "source": [
    "x_train.shape, y_train.shape"
   ]
  },
  {
   "cell_type": "code",
   "execution_count": 45,
   "id": "12fd176b",
   "metadata": {},
   "outputs": [],
   "source": [
    "# 모델링 : Functional API\n",
    "\n",
    "# 1. 세션 클리어\n",
    "clear_session()\n",
    "\n",
    "# 2. 레이어 엮기\n",
    "il = Input(shape=(585,), name='input')\n",
    "hl = Dense(64, activation=relu, name='hidden_1')(il)\n",
    "hl = Dense(64, activation=relu, name='hidden_2')(hl)\n",
    "hl = Dense(64, activation=relu, name='hidden_3')(hl)\n",
    "ol = Dense(1, name='output')(hl)\n",
    "\n",
    "# 3. 모델 시작, 끝 지정\n",
    "model = Model(il, ol)\n",
    "\n",
    "# 4. 텐서보드 콜백 + 컴파일\n",
    "log_dir = \"logs/fit/\" + datetime.datetime.now().strftime(\"%Y%m%d-%H%M%S\")\n",
    "tensorboard_callback = tf.keras.callbacks.TensorBoard(log_dir=log_dir, histogram_freq=1)\n",
    "\n",
    "model.compile(loss=mean_squared_error, optimizer=Adam(0.01))"
   ]
  },
  {
   "cell_type": "code",
   "execution_count": 46,
   "id": "28dd0fe7",
   "metadata": {},
   "outputs": [
    {
     "name": "stdout",
     "output_type": "stream",
     "text": [
      "Model: \"model\"\n",
      "_________________________________________________________________\n",
      " Layer (type)                Output Shape              Param #   \n",
      "=================================================================\n",
      " input (InputLayer)          [(None, 585)]             0         \n",
      "                                                                 \n",
      " hidden_1 (Dense)            (None, 64)                37504     \n",
      "                                                                 \n",
      " hidden_2 (Dense)            (None, 64)                4160      \n",
      "                                                                 \n",
      " hidden_3 (Dense)            (None, 64)                4160      \n",
      "                                                                 \n",
      " output (Dense)              (None, 1)                 65        \n",
      "                                                                 \n",
      "=================================================================\n",
      "Total params: 45,889\n",
      "Trainable params: 45,889\n",
      "Non-trainable params: 0\n",
      "_________________________________________________________________\n"
     ]
    }
   ],
   "source": [
    "model.summary()"
   ]
  },
  {
   "cell_type": "code",
   "execution_count": 47,
   "id": "b3fc4543",
   "metadata": {},
   "outputs": [
    {
     "data": {
      "image/png": "[encoded data removed]",
      "text/plain": [
       "<IPython.core.display.Image object>"
      ]
     },
     "execution_count": 47,
     "metadata": {},
     "output_type": "execute_result"
    }
   ],
   "source": [
    "plot_model(model, show_shapes=True)"
   ]
  },
  {
   "cell_type": "code",
   "execution_count": 48,
   "id": "f52e6b3b",
   "metadata": {},
   "outputs": [],
   "source": [
    "es = EarlyStopping(monitor='val_loss',\n",
    "                   min_delta=0,\n",
    "                   patience=3,\n",
    "                   verbose=1,\n",
    "                   restore_best_weights=True)"
   ]
  },
  {
   "cell_type": "code",
   "execution_count": 49,
   "id": "9bbf0445",
   "metadata": {},
   "outputs": [],
   "source": [
    "mc = ModelCheckpoint('best.h5',\n",
    "                     monitor='val_loss',\n",
    "                     verbose=1,\n",
    "                     save_best_only=True)"
   ]
  },
  {
   "cell_type": "code",
   "execution_count": 50,
   "id": "778a7f2a",
   "metadata": {},
   "outputs": [
    {
     "name": "stdout",
     "output_type": "stream",
     "text": [
      "Epoch 1/30\n",
      "1/7 [===>..........................] - ETA: 4s - loss: 411.4157\n",
      "Epoch 1: val_loss improved from inf to 373.78278, saving model to best.h5\n",
      "7/7 [==============================] - 1s 65ms/step - loss: 389.3921 - val_loss: 373.7828\n",
      "Epoch 2/30\n",
      "1/7 [===>..........................] - ETA: 0s - loss: 157.7159\n",
      "Epoch 2: val_loss improved from 373.78278 to 362.26047, saving model to best.h5\n",
      "7/7 [==============================] - 0s 30ms/step - loss: 252.3074 - val_loss: 362.2605\n",
      "Epoch 3/30\n",
      "1/7 [===>..........................] - ETA: 0s - loss: 197.5312\n",
      "Epoch 3: val_loss did not improve from 362.26047\n",
      "7/7 [==============================] - 0s 24ms/step - loss: 224.3648 - val_loss: 389.5473\n",
      "Epoch 4/30\n",
      "1/7 [===>..........................] - ETA: 0s - loss: 249.8550\n",
      "Epoch 4: val_loss improved from 362.26047 to 312.36911, saving model to best.h5\n",
      "7/7 [==============================] - 0s 34ms/step - loss: 219.5874 - val_loss: 312.3691\n",
      "Epoch 5/30\n",
      "1/7 [===>..........................] - ETA: 0s - loss: 122.5761\n",
      "Epoch 5: val_loss did not improve from 312.36911\n",
      "7/7 [==============================] - 0s 24ms/step - loss: 195.7431 - val_loss: 350.9352\n",
      "Epoch 6/30\n",
      "1/7 [===>..........................] - ETA: 0s - loss: 167.0201\n",
      "Epoch 6: val_loss did not improve from 312.36911\n",
      "7/7 [==============================] - 0s 25ms/step - loss: 224.3759 - val_loss: 318.9152\n",
      "Epoch 7/30\n",
      "1/7 [===>..........................] - ETA: 0s - loss: 171.4634Restoring model weights from the end of the best epoch: 4.\n",
      "\n",
      "Epoch 7: val_loss did not improve from 312.36911\n",
      "7/7 [==============================] - 0s 25ms/step - loss: 185.8073 - val_loss: 365.4393\n",
      "Epoch 7: early stopping\n"
     ]
    }
   ],
   "source": [
    "# 모델 학습\n",
    "history = model.fit(x_train, y_train, epochs=30, validation_split=0.1, verbose=1, \n",
    "                    callbacks=[es, mc, tensorboard_callback])"
   ]
  },
  {
   "cell_type": "code",
   "execution_count": 51,
   "id": "5abde170",
   "metadata": {
    "scrolled": true
   },
   "outputs": [
    {
     "data": {
      "image/png": "[encoded data removed]",
      "text/plain": [
       "<Figure size 576x432 with 1 Axes>"
      ]
     },
     "metadata": {
      "image/png": {
       "height": 392,
       "width": 486
      },
      "needs_background": "light"
     },
     "output_type": "display_data"
    }
   ],
   "source": [
    "plt.figure(figsize=(8, 6))\n",
    "plt.title('DL_Result', fontsize=20)\n",
    "plt.plot(history.history['val_loss'], color='orangered', label='val_loss')\n",
    "plt.plot(history.history['loss'], color='limegreen', label='loss')\n",
    "plt.xlabel('epochs')\n",
    "plt.legend()\n",
    "plt.show()"
   ]
  },
  {
   "cell_type": "code",
   "execution_count": 52,
   "id": "1abaadef",
   "metadata": {
    "scrolled": false
   },
   "outputs": [
    {
     "data": {
      "text/plain": [
       "Reusing TensorBoard on port 6006 (pid 10992), started 7 days, 6:07:29 ago. (Use '!kill 10992' to kill it.)"
      ]
     },
     "metadata": {},
     "output_type": "display_data"
    },
    {
     "data": {
      "text/html": [
       "\n",
       "      <iframe id=\"tensorboard-frame-12c4cf3784817e20\" width=\"100%\" height=\"800\" frameborder=\"0\">\n",
       "      </iframe>\n",
       "      <script>\n",
       "        (function() {\n",
       "          const frame = document.getElementById(\"tensorboard-frame-12c4cf3784817e20\");\n",
       "          const url = new URL(\"/\", window.location);\n",
       "          const port = 6006;\n",
       "          if (port) {\n",
       "            url.port = port;\n",
       "          }\n",
       "          frame.src = url;\n",
       "        })();\n",
       "      </script>\n",
       "    "
      ],
      "text/plain": [
       "<IPython.core.display.HTML object>"
      ]
     },
     "metadata": {},
     "output_type": "display_data"
    }
   ],
   "source": [
    "# Tensorboard로 학습결과 확인\n",
    "# 주의 : 재실행하면 Reusing TensorBoard on port 6006 (pid 10992), started 7 days, 6:07:29 ago.\n",
    "#        (Use '!kill 10992' to kill it.) 오류가 발생함.....\n",
    "%tensorboard --logdir logs/fit"
   ]
  }
 ],
 "metadata": {
  "kernelspec": {
   "display_name": "Python 3",
   "language": "python",
   "name": "python3"
  },
  "language_info": {
   "codemirror_mode": {
    "name": "ipython",
    "version": 3
   },
   "file_extension": ".py",
   "mimetype": "text/x-python",
   "name": "python",
   "nbconvert_exporter": "python",
   "pygments_lexer": "ipython3",
   "version": "3.8.8"
  }
 },
 "nbformat": 4,
 "nbformat_minor": 5
}
